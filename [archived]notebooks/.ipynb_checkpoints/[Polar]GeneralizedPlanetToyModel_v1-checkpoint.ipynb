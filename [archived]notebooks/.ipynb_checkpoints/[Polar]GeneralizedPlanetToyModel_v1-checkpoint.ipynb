{
 "cells": [
  {
   "cell_type": "markdown",
   "id": "13300ece-0a92-4f0d-9e35-0d92841ca412",
   "metadata": {},
   "source": [
    "# Jupiter toy model with 3d inclination and frame-by-frame\n",
    "\n",
    "#### Completed and pending tasklist\n",
    "\n",
    "- [x] Jupiter windspeed conversion for banding\n",
    "- [x] Jupiter long-lat rectangular banding map\n",
    "- [x] 3d equirectangular spherical projection\n",
    "- [x] Manual adjustment of inclination, capturing the sphere, and reimport\n",
    "\n",
    "- [x] Cropping output jpg without whitespace\n",
    "- [x] Automatic adjustment of inclination, spherical capture and formatting background\n",
    "- [ ] Time-evolution of rectangular map for Jupiter atmosphere\n",
    "- [ ] Adding latitudinally distinct component (polar vortices)"
   ]
  },
  {
   "cell_type": "code",
   "execution_count": 1,
   "id": "fb76a31d-39b1-4d44-9360-18fa0114e6ff",
   "metadata": {},
   "outputs": [],
   "source": [
    "import matplotlib.pyplot as plt\n",
    "import numpy as np\n",
    "from astropy import units as u\n",
    "import cv2\n",
    "from mayavi import mlab\n",
    "from tvtk.api import tvtk # python wrappers for the C++ vtk ecosystem\n",
    "# from mayavi import mlab\n",
    "# mlab.init_notebook()\n",
    "\n",
    "def find_nearest(array, value):\n",
    "    array = np.asarray(array)\n",
    "    idx = (np.abs(array - value)).argmin()\n",
    "    return idx\n",
    "\n",
    "import os\n",
    "from os.path import join\n",
    "array = os.path.abspath('').split('/')\n",
    "homedir = '/'\n",
    "for i in range(1,7):\n",
    "   homedir = join(homedir, array[i])\n",
    "plotPath = join(homedir, 'plots')\n",
    "\n",
    "#=================================================\n",
    "# Prepare the Cassini wind speed plot-based figure:\n",
    "\n",
    "cassini_filename = '/Users/nguyendat/Documents/GitHub/polar_vortice/polar_vortice/data/Cassini_jupiter_BetterSampling.csv'\n",
    "cassini = np.genfromtxt(cassini_filename,delimiter=\",\",dtype=np.double)\n",
    "wind=np.array(cassini[:,0])\n",
    "latitude=np.array(cassini[:,1])\n",
    "\n",
    "wind_sorted=wind[np.argsort(latitude)]\n",
    "latitude_sorted=latitude[np.argsort(latitude)]\n",
    "\n",
    "wind=wind_sorted\n",
    "latitude=latitude_sorted"
   ]
  },
  {
   "cell_type": "code",
   "execution_count": null,
   "id": "28626540-13c6-47ae-b2c5-aaf4a63b6b3e",
   "metadata": {},
   "outputs": [],
   "source": [
    "for xx in range(0,imgsize):\n",
    "    for yy in range(0,imgsize):\n",
    "        \n",
    "        if \n",
    "        \n",
    "        periodimg_fd[yy,xx]=circumference/(rotspeed+windspeed[yy,xx])/3600."
   ]
  },
  {
   "cell_type": "markdown",
   "id": "52ae81ad-e498-49ed-add5-83a52267b46b",
   "metadata": {},
   "source": [
    "### Generate the 2d-map from Cassini windspeed data"
   ]
  },
  {
   "cell_type": "code",
   "execution_count": 76,
   "id": "14ee5af3-e7a9-4306-9573-e7329cbcbc39",
   "metadata": {},
   "outputs": [],
   "source": [
    "#=================================================\n",
    "imgsize=500\n",
    "xcen=(float(imgsize)-1.)/2.0\n",
    "ycen=(float(imgsize)-1.)/2.0\n",
    "\n",
    "run_again = True\n",
    "if run_again:\n",
    "    latitudes=np.zeros((imgsize,imgsize))\n",
    "    windspeed=np.zeros((imgsize,imgsize))\n",
    "    periodimg_fd=np.zeros((imgsize,imgsize))\n",
    "\n",
    "    latitudes[:]=np.NaN\n",
    "    windspeed[:]=np.NaN\n",
    "    periodimg_fd[:]=np.NaN\n",
    "\n",
    "    radius=imgsize/2 # Radius of jupiter in the synthetic image\n",
    "\n",
    "    Rjup=u.R_jup.to('m')\n",
    "\n",
    "    for xx in range(0,imgsize):\n",
    "        for yy in range(0,imgsize):\n",
    "            lat=np.degrees(np.arcsin(-(yy-ycen)/radius))\n",
    "            latitudes[yy,xx]=lat\n",
    "            windspeed[yy,xx]=wind[find_nearest(latitude,lat)]\n",
    "            rotspeed=2.0*np.pi*Rjup*np.cos(np.arcsin(-(yy-ycen)/radius))/(9.*3600.+56*60.)\n",
    "            circumference=2.0*np.pi*Rjup*np.cos(np.arcsin(-(yy-ycen)/radius))\n",
    "            periodimg_fd[yy,xx]=circumference/(rotspeed+windspeed[yy,xx])/3600.\n",
    "        \n",
    "# periodimg[np.isnan(periodimg)] = 255"
   ]
  },
  {
   "cell_type": "code",
   "execution_count": 100,
   "id": "cc8ad580-0173-4bc1-b3a1-88ee63297cd1",
   "metadata": {},
   "outputs": [
    {
     "data": {
      "image/png": "[encoded data removed]",
      "text/plain": [
       "<Figure size 720x360 with 1 Axes>"
      ]
     },
     "metadata": {
      "needs_background": "light"
     },
     "output_type": "display_data"
    }
   ],
   "source": [
    "# save = False\n",
    "save = True\n",
    "\n",
    "plt.close(),\n",
    "# plt.figure(figsize=(10,6), frameon=False)\n",
    "fig, ax = plt.subplots(figsize=(10,5), frameon=False)\n",
    "# plt.subplots_adjust(top=0, bottom = 0, right=0, left=1, hspace = 0, wspace = 0)\n",
    "plt.margins(0, 0)\n",
    "# fig = plt.imshow(periodimg_fd, aspect=0.5)\n",
    "\n",
    "# colormap = 'viridis'\n",
    "# colormap = 'YlOrRd_r'\n",
    "# colormap = 'YlGn_r'\n",
    "colormap = 'plasma'\n",
    "\n",
    "ax.imshow(periodimg_fd, aspect=0.5, cmap=colormap)\n",
    "plt.draw()\n",
    "plt.axis('off')\n",
    "\n",
    "if save:\n",
    "    plotOut = plotPath + '/Equirectangular_CassiniJupiter_map.jpeg'\n",
    "    # plt.imsave(arr=periodimg_fd, fname = plotOut)\n",
    "    fig.savefig(plotOut, format='jpeg', bbox_inches = 'tight', dpi=400, pad_inches=0)\n",
    "    # cv2.imwrite(plotPath + '/Equirectangular_CassiniJupiter_map.png', save_array)"
   ]
  },
  {
   "cell_type": "code",
   "execution_count": 104,
   "id": "d273c6f8-09fa-44cc-8cc1-0b05ce357f72",
   "metadata": {},
   "outputs": [],
   "source": [
    "run_mayavi = True\n",
    "# run_mayavi = False\n",
    "\n",
    "if run_mayavi:\n",
    "    mlab.close(all=True)\n",
    "    # create a figure window (and scene)\n",
    "    fig = mlab.figure(size=(450, 500))\n",
    "\n",
    "    # load and map the texture\n",
    "    img = tvtk.JPEGReader()\n",
    "    img.file_name = plotPath + '/Equirectangular_CassiniJupiter_map.jpeg'\n",
    "    texture = tvtk.Texture(input_connection=img.output_port, interpolate=1)\n",
    "    # (interpolate for a less raster appearance when zoomed in)\n",
    "\n",
    "    # use a TexturedSphereSource, a.k.a. getting our hands dirty\n",
    "    R = 1\n",
    "    Nrad = 180\n",
    "\n",
    "    # create the sphere source with a given radius and angular resolution\n",
    "    sphere = tvtk.TexturedSphereSource(radius=R, theta_resolution=Nrad,\n",
    "                                       phi_resolution=Nrad)\n",
    "\n",
    "    # assemble rest of the pipeline, assign texture    \n",
    "    sphere_mapper = tvtk.PolyDataMapper(input_connection=sphere.output_port)\n",
    "    sphere_actor = tvtk.Actor(mapper=sphere_mapper, texture=texture)\n",
    "    fig.scene.add_actor(sphere_actor)\n",
    "    sphere_actor.property.lighting = False\n",
    "    \n",
    "    # configuring the 3d view and camera\n",
    "    fig.scene.parallel_projection = True\n",
    "    fig.scene.background = (1, 1, 1)  # for white\n",
    "    # fig.scene.background = (0, 0, 0)  # for black\n",
    "    mlab.view(azimuth=180.0, elevation=70.0, distance=2.0, roll=100)\n",
    "\n",
    "    camera = fig.scene.camera\n",
    "    camera.zoom(1.57)\n",
    "    mlab.show()\n",
    "    "
   ]
  },
  {
   "cell_type": "code",
   "execution_count": null,
   "id": "9ba31724-0056-4abc-85bd-bcfc247a34a6",
   "metadata": {},
   "outputs": [],
   "source": []
  }
 ],
 "metadata": {
  "kernelspec": {
   "display_name": "Python 3 (ipykernel)",
   "language": "python",
   "name": "python3"
  },
  "language_info": {
   "codemirror_mode": {
    "name": "ipython",
    "version": 3
   },
   "file_extension": ".py",
   "mimetype": "text/x-python",
   "name": "python",
   "nbconvert_exporter": "python",
   "pygments_lexer": "ipython3",
   "version": "3.9.7"
  }
 },
 "nbformat": 4,
 "nbformat_minor": 5
}
