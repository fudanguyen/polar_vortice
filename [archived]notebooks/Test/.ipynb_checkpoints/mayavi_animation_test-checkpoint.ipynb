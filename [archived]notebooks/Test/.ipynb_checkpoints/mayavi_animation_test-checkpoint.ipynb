{
 "cells": [
  {
   "cell_type": "code",
   "execution_count": 15,
   "id": "66eb885a-88a1-4dfb-98d3-69400de6649d",
   "metadata": {},
   "outputs": [],
   "source": [
    "import numpy as np\n",
    "from mayavi import mlab\n",
    "x, y = np.mgrid[0:3:1,0:3:1]\n",
    "s = mlab.surf(x, y, np.asarray(x*0.1, 'd'))\n",
    "\n",
    "@mlab.animate\n",
    "def anim():\n",
    "    for i in range(100):\n",
    "        s.mlab_source.scalars = np.asarray(x*0.1*(i+5), 'd')\n",
    "        yield\n",
    "\n",
    "anim()\n",
    "mlab.show()"
   ]
  },
  {
   "cell_type": "code",
   "execution_count": 14,
   "id": "074891d0-4614-4a35-bf4b-7b47194a5e32",
   "metadata": {},
   "outputs": [],
   "source": [
    "# Produce some nice data.\n",
    "n_mer, n_long = 6, 11\n",
    "pi = np.pi\n",
    "dphi = pi/1000.0\n",
    "phi = np.arange(0.0, 2*pi + 0.5*dphi, dphi, 'd')\n",
    "mu = phi*n_mer\n",
    "x = np.cos(mu)*(1+np.cos(n_long*mu/n_mer)*0.5)\n",
    "y = np.sin(mu)*(1+np.cos(n_long*mu/n_mer)*0.5)\n",
    "z = np.sin(n_long*mu/n_mer)*0.5\n",
    "\n",
    "# View it.\n",
    "l = mlab.plot3d(x, y, z, np.sin(mu), tube_radius=0.025, colormap='Spectral')\n",
    "\n",
    "# Now animate the data.\n",
    "ms = l.mlab_source\n",
    "for i in range(10):\n",
    "    x = np.cos(mu)*(1+np.cos(n_long*mu/n_mer +\n",
    "                                      np.pi*(i+1)/5.)*0.5)\n",
    "    scalars = np.sin(mu + np.pi*(i+1)/5)\n",
    "    ms.trait_set(x=x, scalars=scalars)\n",
    "    \n",
    "mlab.show()"
   ]
  },
  {
   "cell_type": "code",
   "execution_count": 11,
   "id": "1e4fe9fb-9446-4a42-81eb-e1ab00e4edc4",
   "metadata": {},
   "outputs": [],
   "source": [
    "x, y = np.mgrid[0:3:1,0:3:1]\n",
    "s = mlab.surf(x, y, np.asarray(x*0.1, 'd'),\n",
    "              representation='wireframe')\n",
    "# Animate the data.\n",
    "fig = mlab.gcf()\n",
    "ms = s.mlab_source\n",
    "for i in range(5):\n",
    "    x, y = np.mgrid[0:3:1.0/(i+2),0:3:1.0/(i+2)]\n",
    "    sc = np.asarray(x*x*0.05*(i+1), 'd')\n",
    "    ms.reset(x=x, y=y, scalars=sc)\n",
    "    fig.scene.reset_zoom()"
   ]
  },
  {
   "cell_type": "code",
   "execution_count": 16,
   "id": "a9da0ab9-0fb7-4e5a-86de-bb448e34581f",
   "metadata": {},
   "outputs": [],
   "source": [
    "import numpy as np\n",
    "from mayavi import mlab\n",
    "\n",
    "@mlab.animate(delay = 100)\n",
    "def updateAnimation():\n",
    "    t = 0.0\n",
    "    while True:\n",
    "        ball.mlab_source.set(x = np.cos(t), y = np.sin(t), z = 0)\n",
    "        t += 0.1\n",
    "        yield\n",
    "\n",
    "ball = mlab.points3d(np.array(1.), np.array(0.), np.array(0.))\n",
    "\n",
    "updateAnimation()\n",
    "mlab.show()"
   ]
  },
  {
   "cell_type": "markdown",
   "id": "b6e1fb0d-7520-44c9-87a0-78c46c067982",
   "metadata": {},
   "source": [
    "### GEnerate animated series of pictures"
   ]
  },
  {
   "cell_type": "code",
   "execution_count": null,
   "id": "299dbee9-68bc-4c1a-a8a3-f3cc3afec7b2",
   "metadata": {},
   "outputs": [],
   "source": [
    "import matplotlib.pyplot as plt\n",
    "import numpy as np\n",
    "%matplotlib widget\n",
    "\n",
    "import matplotlib.animation as animation\n",
    "\n",
    "fig, ax = plt.subplots()\n",
    "# save = True\n",
    "save = False\n",
    "savePath = \"/Users/nguyendat/Documents/GitHub/polar_vortice/polar_vortice/notebooks/Test/animated_1/\"\n",
    "\n",
    "def f(x, y):\n",
    "    return np.sin(x) + np.cos(y)\n",
    "\n",
    "x = np.linspace(0, 2 * np.pi, 120)\n",
    "y = np.linspace(0, 2 * np.pi, 100).reshape(-1, 1)\n",
    "\n",
    "# ims is a list of lists, each row is a list of artists to draw in the\n",
    "# current frame; here we are just animating one artist, the image, in\n",
    "# each frame\n",
    "ims = []\n",
    "\n",
    "for i in range(60):\n",
    "    x += np.pi / 15\n",
    "    y += np.pi / 30\n",
    "    im = ax.imshow(f(x, y), animated=True)\n",
    "    if i == 0:\n",
    "        ax.imshow(f(x, y))  # show an initial one first\n",
    "    ims.append([im])\n",
    "    if save:\n",
    "        fig.savefig(savePath+'ani_%04d.png'%i)\n",
    "        \n",
    "ani = animation.ArtistAnimation(fig, ims, interval=50, blit=True,repeat_delay=1000)\n",
    "# ani.to_jshtml()\n",
    "\n",
    "# To save the animation, use e.g.\n",
    "#\n",
    "# ani.save(\"movie.mp4\")\n",
    "#\n",
    "# or\n",
    "#\n",
    "# writer = animation.FFMpegWriter(\n",
    "#     fps=15, metadata=dict(artist='Me'), bitrate=1800)\n",
    "# ani.save(\"movie.mp4\", writer=writer)\n",
    "\n",
    "plt.show()"
   ]
  },
  {
   "cell_type": "code",
   "execution_count": null,
   "id": "eb61ddf7-6fd7-448e-ba2d-b1aa661334bd",
   "metadata": {},
   "outputs": [],
   "source": []
  }
 ],
 "metadata": {
  "kernelspec": {
   "display_name": "Python 3 (ipykernel)",
   "language": "python",
   "name": "python3"
  },
  "language_info": {
   "codemirror_mode": {
    "name": "ipython",
    "version": 3
   },
   "file_extension": ".py",
   "mimetype": "text/x-python",
   "name": "python",
   "nbconvert_exporter": "python",
   "pygments_lexer": "ipython3",
   "version": "3.9.7"
  }
 },
 "nbformat": 4,
 "nbformat_minor": 5
}
