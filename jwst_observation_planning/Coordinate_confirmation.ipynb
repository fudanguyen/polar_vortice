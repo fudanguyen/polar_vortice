{
 "cells": [
  {
   "cell_type": "markdown",
   "metadata": {},
   "source": [
    "This notebook is to confirm the accuracy of VHS 1256 b's coordinate.\n",
    "\n",
    "P1386 (ERS, same as Gauza+2015):     \n",
    "RA: 12h56m01s.586 Dec: −12°57′30.′′310 Epoch: MJD: 55743.067635     \n",
    "pmra: -275.4 mas/yr pmdec: -198.4 mas/yr    \n",
    "\n",
    "Current APT (APT, probably Gaia):    \n",
    "RA: 12 56 1.5389 Dec: -12 57 30.62 Epoch: 2015.5    \n",
    "pmra: -0.018949 s/yr = -284.2 mas/yr pmdec = -189.0 mas/yr    \n",
    "\n",
    "SIMBAD host (A_simbad, gaia):     \n",
    "RA: 12 56 02.1337046541 Dec: -12 57 21.924307013 Epoch: J2000.0     \n",
    "pmra: -272.5 mas/yr pmdec = -190.2 mas/yr   \n",
    "\n",
    "delta_RA = −5049.0 mas delta_Dec = −6387.5 Epoch: 2022.271\n",
    "\n",
    "## Establish these coordinates with astropy"
   ]
  },
  {
   "cell_type": "code",
   "execution_count": 1,
   "metadata": {},
   "outputs": [
    {
     "name": "stderr",
     "output_type": "stream",
     "text": [
      "/Users/nguyendat/opt/anaconda3/lib/python3.9/site-packages/erfa/core.py:154: ErfaWarning: ERFA function \"pmsafe\" yielded 1 of \"distance overridden (Note 6)\"\n",
      "  warnings.warn('ERFA function \"{}\" yielded {}'.format(func_name, wmsg),\n"
     ]
    }
   ],
   "source": [
    "from astropy import units as u\n",
    "from astropy.coordinates import SkyCoord, Angle\n",
    "from astropy.time import Time\n",
    "\n",
    "coord_ers = SkyCoord(ra=Angle(\"12:56:01.586\", unit=u.hourangle), \n",
    "                     dec=Angle(\"−12:57:30.310\", unit=u.deg),\n",
    "                    obstime=Time(55743.067635, format='mjd'),\n",
    "                    pm_ra_cosdec=-275.4*u.mas/u.yr, pm_dec=-198.4*u.mas/u.yr)\n",
    "\n",
    "coord_APT = SkyCoord(ra=Angle(\"12:56:1.5389\", unit=u.hourangle),\n",
    "                     dec=Angle(\"−12:57:30.62\", unit=u.deg),\n",
    "                    obstime=Time(2015.5, format='jyear'),\n",
    "                    pm_ra_cosdec=-284.2*u.mas/u.yr, pm_dec=-189.0*u.mas/u.yr)\n",
    "                    \n",
    "coord_A_simbad = SkyCoord(Angle(\"12:56:02.133704\", unit=u.hourangle),\n",
    "                          Angle(\"−12:57:21.9243\", unit=u.deg),\n",
    "                         obstime=Time(2000, format='jyear'),                    \n",
    "                        pm_ra_cosdec=-272.5*u.mas/u.yr, pm_dec=-190.2*u.mas/u.yr)\n",
    "\n",
    "# translate to the epoch when Dupuy measured the latest relative astrometry\n",
    "coord_A_J2022 = coord_A_simbad.apply_space_motion(new_obstime=Time(2022.271, format='jyear'))\n",
    "# make a copy and then apply the offset\n",
    "coord_Dupuy = SkyCoord(ra=coord_A_J2022.ra+(-5049.0)*u.mas,\n",
    "                         dec=coord_A_J2022.dec+(-6387.5)*u.mas,\n",
    "                         obstime=Time(2022.271, format='jyear'),\n",
    "                         pm_ra_cosdec=coord_A_J2022.pm_ra_cosdec,\n",
    "                         pm_dec=coord_A_J2022.pm_dec)"
   ]
  },
  {
   "cell_type": "code",
   "execution_count": 4,
   "metadata": {},
   "outputs": [],
   "source": [
    "# set the nominal epoch to be close the observing day, say 2024-06-01\n",
    "\n",
    "obsTime = Time('2024-06-01')"
   ]
  },
  {
   "cell_type": "code",
   "execution_count": 5,
   "metadata": {},
   "outputs": [],
   "source": [
    "coord_ers_obs = coord_ers.apply_space_motion(new_obstime=obsTime)\n",
    "coord_APT_obs = coord_APT.apply_space_motion(new_obstime=obsTime)\n",
    "coord_Dupuy_obs = coord_Dupuy.apply_space_motion(new_obstime=obsTime)"
   ]
  },
  {
   "cell_type": "code",
   "execution_count": 6,
   "metadata": {},
   "outputs": [
    {
     "name": "stdout",
     "output_type": "stream",
     "text": [
      "Separation between ERS and APT: 0.6604052151940797 arcsec\n",
      "Separation between ERS and Dupuy: 0.08242160002702464 arcsec\n"
     ]
    }
   ],
   "source": [
    "print('Separation between ERS and APT: {0}'.format(coord_ers_obs.separation(coord_APT_obs).to(u.arcsec)))\n",
    "print('Separation between ERS and Dupuy: {0}'.format(coord_ers_obs.separation(coord_Dupuy_obs).to(u.arcsec)))"
   ]
  },
  {
   "cell_type": "code",
   "execution_count": 7,
   "metadata": {},
   "outputs": [
    {
     "name": "stdout",
     "output_type": "stream",
     "text": [
      "RA: hms_tuple(h=12.0, m=56.0, s=1.3420025257660484)\n",
      "Dec: dms_tuple(d=-12.0, m=-57.0, s=-32.95523442092218)\n",
      "Epoch: 2024.4147843942505\n"
     ]
    }
   ],
   "source": [
    "print('RA:', coord_Dupuy_obs.ra.hms)\n",
    "print('Dec:', coord_Dupuy_obs.dec.dms)\n",
    "print('Epoch:', coord_Dupuy_obs.obstime.jyear)"
   ]
  },
  {
   "cell_type": "code",
   "execution_count": 8,
   "metadata": {},
   "outputs": [
    {
     "data": {
      "text/plain": [
       "32.9076429833229"
      ]
     },
     "execution_count": 8,
     "metadata": {},
     "output_type": "execute_result"
    }
   ],
   "source": [
    "coord_A_J2022.position_angle(coord_Dupuy).degree-180-4.7"
   ]
  },
  {
   "cell_type": "code",
   "execution_count": 9,
   "metadata": {},
   "outputs": [
    {
     "name": "stdout",
     "output_type": "stream",
     "text": [
      "RA: hms_tuple(h=12.0, m=56.0, s=1.582834674300102)\n",
      "Dec: dms_tuple(d=-12.0, m=-57.0, s=-30.498034087444665)\n",
      "Epoch: 2011.495\n"
     ]
    }
   ],
   "source": [
    "# propagate to the ERS proposal epoch to double check\n",
    "coord_ers_backprop = coord_Dupuy.apply_space_motion(new_obstime=Time(2011.4950, format='jyear'))\n",
    "print('RA:', coord_ers_backprop.ra.hms)\n",
    "print('Dec:', coord_ers_backprop.dec.dms)\n",
    "print('Epoch:', coord_ers_backprop.obstime.jyear)"
   ]
  },
  {
   "cell_type": "code",
   "execution_count": 10,
   "metadata": {},
   "outputs": [
    {
     "name": "stdout",
     "output_type": "stream",
     "text": [
      "RA: hms_tuple(h=12.0, m=56.0, s=1.5860000000104435)\n",
      "Dec: dms_tuple(d=-12.0, m=-57.0, s=-30.310000000001764)\n",
      "Epoch: 2011.4950517043121\n"
     ]
    }
   ],
   "source": [
    "print('RA:', coord_ers.ra.hms)\n",
    "print('Dec:', coord_ers.dec.dms)\n",
    "print('Epoch:', coord_ers.obstime.jyear)"
   ]
  },
  {
   "cell_type": "code",
   "execution_count": 11,
   "metadata": {},
   "outputs": [
    {
     "name": "stdout",
     "output_type": "stream",
     "text": [
      "Separation between ERS and ERS_backprop: 0.19364347897073875 arcsec\n"
     ]
    }
   ],
   "source": [
    "print('Separation between ERS and ERS_backprop: {0}'.format(coord_ers.separation(coord_ers_backprop).to(u.arcsec)))"
   ]
  },
  {
   "cell_type": "code",
   "execution_count": null,
   "metadata": {},
   "outputs": [],
   "source": []
  }
 ],
 "metadata": {
  "kernelspec": {
   "display_name": "base",
   "language": "python",
   "name": "python3"
  },
  "language_info": {
   "codemirror_mode": {
    "name": "ipython",
    "version": 3
   },
   "file_extension": ".py",
   "mimetype": "text/x-python",
   "name": "python",
   "nbconvert_exporter": "python",
   "pygments_lexer": "ipython3",
   "version": "3.9.7"
  }
 },
 "nbformat": 4,
 "nbformat_minor": 2
}
