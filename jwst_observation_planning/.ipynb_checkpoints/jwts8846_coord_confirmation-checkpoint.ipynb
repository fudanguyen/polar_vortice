{
 "cells": [
  {
   "cell_type": "markdown",
   "metadata": {},
   "source": [
    "## Coordinate confirmation for JWST Program 8846\n",
    "\n",
    "Goal: separation between different coordinates should be smaller than Target Acquisition FOV. For 8846: TA is NIRSPEC WATA BOTS: 1.6\"x1.6\" FOV. For target to not fall out of acquisition FOV, coordinates difference should be less than half that of FOV width i.e. <0.8 arcsecond. (https://jwst-docs.stsci.edu/jwst-near-infrared-spectrograph/nirspec-operations/nirspec-target-acquisition/nirspec-wide-aperture-target-acquisition#gsc.tab=0)"
   ]
  },
  {
   "cell_type": "code",
   "execution_count": 58,
   "metadata": {},
   "outputs": [],
   "source": [
    "from astropy import units as u\n",
    "from astropy.coordinates import SkyCoord, Angle\n",
    "from astropy.time import Time\n",
    "import warnings\n",
    "warnings.filterwarnings('ignore')"
   ]
  },
  {
   "cell_type": "markdown",
   "metadata": {},
   "source": [
    "### Three targets: \n",
    "\n",
    "#### 2M2139: (CFBDS J213926+022023): new target for program 8846\n",
    "\n",
    "- 2MASS (and APT):  RA = 324.86153900 deg; Dec = 2.33963800 deg; Pmra = 485.9 mas/yr; Pmdec = 124.8 mas/yr; Epoch: J2000.0 (SIMBAD)\n",
    "- GAIA: RA = 324.8636290242733 deg; Dec = 2.340170017593518 deg;\n",
    "pmra = NaN; Pmdec = NaN; Epoch: 2016.0 (GAIA)\n",
    "- PS1: RA = 324.862927 deg, dec= 02.339991 deg, pmra = 490.6 mas/yr, pmdec = 126.6 mas/yr, Epoch: 2010.79 (UltracoolSheet/Vizier)\n",
    "\n",
    "#### PSO 318: (PSO J318.5338-22.8603, 2MASS J21140802-2251358): observed with 1275\n",
    "\n",
    "- 2MASS (and APT):  RA = 318.53344000 deg; Dec = -22.85995500 deg, Pmra = 136.3 mas/yr; Pmdec =  -144.3 mas/yr, Epoch: J2000.0 (RA = 21h 14m 08.02560s;  -22d 51m 35.8380s) (SIMBAD)\n",
    "- PS1 (PanSTARR): RA = 318.5335 deg; Dec = -22.8600 deg; pmra = 138.2 mas/yr; pmdec = -150.1, Epoch: 2008.4594935 (Vizier)\n",
    "- GAIA: NaN\n",
    "- 1275: RA = 21h 14m 8.2776s; Dec = -22d 51m 39.24s; pmra = 136.3 mas/yr; pmdec = 144.3 mas/yr; Epoch: 2023.3 (APT)\n",
    "\n",
    "\n",
    "#### 2M1126: (DENIS J112639.9-500355): Already used GAIA coords.\n",
    "- GAIA (and APT): RA = 171.65484488705087 deg, dec = -50.06323211342603 deg; pmra = -1589.907 mas/yr; pmdec = 450.777 mas/yr;  Epoch: 2016.0 (GAIA)\n",
    "- 5474: identical to GAIA\n",
    "- 3930: RA = 11h 26m 36.3600s, Dec = -50d 03m 45.36s; pmra = -1589.2 mas/yr; pmdec = 451.0 mas/yr; Epoch: 2020.83 (APT)\n"
   ]
  },
  {
   "cell_type": "markdown",
   "metadata": {},
   "source": [
    "### 1. 2M2139 Coord Confirmation\n",
    "- No previous program\n",
    "- GAIA coords do not have proper motions\n",
    "- calculate GAIA epoch coordinates first, and then observation epoch\n",
    "- large difference --> NEED ATTENTION"
   ]
  },
  {
   "cell_type": "code",
   "execution_count": 65,
   "metadata": {},
   "outputs": [],
   "source": [
    "# 2mass (apt)\n",
    "coord2139_2mass = SkyCoord(ra=324.86153900*u.deg, \n",
    "                dec=2.33963800*u.deg,\n",
    "                obstime=Time(2000.0, format='jyear'),\n",
    "                pm_ra_cosdec=485.9 *u.mas/u.yr, pm_dec=124.8*u.mas/u.yr)\n",
    "\n",
    "# gaia (no pmra, pmdec) : CHECK PMRA AND PMDEC, inaccurate\n",
    "coord2139_gaia = SkyCoord(ra=324.8636290242733*u.deg,\n",
    "                dec=2.340170017593518*u.deg,\n",
    "                obstime=Time(2016.0, format='jyear'), \n",
    "                pm_ra_cosdec=0.0*u.mas/u.yr, pm_dec=0.0*u.mas/u.yr)\n",
    "\n",
    "# Panstarr\n",
    "coord2139_ps1 = SkyCoord(ra=324.862927000*u.deg,\n",
    "                dec=2.339991000*u.deg,\n",
    "                pm_ra_cosdec=490.6*u.mas/u.yr, pm_dec=126.6*u.mas/u.yr,\n",
    "                obstime=Time(2010.79, format='jyear'))\n"
   ]
  },
  {
   "cell_type": "code",
   "execution_count": 66,
   "metadata": {},
   "outputs": [
    {
     "name": "stdout",
     "output_type": "stream",
     "text": [
      "2M2139 Coordinate at 2016-01-01 00:00:00.000\n",
      "Separation between APT and GAIA: 0.26854489916923996 arcsec\n",
      "Separation between APT and PS1: 2.874257462187509 arcsec\n",
      "\n",
      "2M2139 Coordinate at 2026-10-04 00:00:00.000\n",
      "Separation between APT and PS1: 8.27072679506465 arcsec\n"
     ]
    }
   ],
   "source": [
    "# set the nominal epoch to GAIA epoch\n",
    "obsTime1 = Time('2016-01-01')\n",
    "\n",
    "# apply obsTime to get new observing coordinates \n",
    "coord2139_2mass_obs = coord2139_2mass.apply_space_motion(new_obstime=obsTime1)\n",
    "coord2139_gaia_obs = coord2139_gaia.apply_space_motion(new_obstime=obsTime1)\n",
    "coord2139_ps1_obs = coord2139_ps1.apply_space_motion(new_obstime=obsTime1)\n",
    "\n",
    "print('2M2139 Coordinate at', obsTime1)\n",
    "print('Separation between APT and GAIA: {0}'.format(coord2139_2mass_obs.separation(coord2139_gaia_obs).to(u.arcsec)))\n",
    "print('Separation between APT and PS1: {0}'.format(coord2139_2mass_obs.separation(coord2139_ps1).to(u.arcsec)))\n",
    "\n",
    "# set the nominal epoch to close to observation date\n",
    "obsTime2 = Time('2026-10-04')\n",
    "\n",
    "# apply obsTime to get new observing coordinates \n",
    "coord2139_2mass_obs = coord2139_2mass.apply_space_motion(new_obstime=obsTime2)\n",
    "coord2139_gaia_obs = coord2139_gaia.apply_space_motion(new_obstime=obsTime2)\n",
    "coord2139_ps1_obs = coord2139_ps1.apply_space_motion(new_obstime=obsTime2)\n",
    "\n",
    "print('\\n2M2139 Coordinate at', obsTime2)\n",
    "print('Separation between APT and PS1: {0}'.format(coord2139_2mass_obs.separation(coord2139_ps1).to(u.arcsec)))"
   ]
  },
  {
   "cell_type": "markdown",
   "metadata": {},
   "source": [
    "### 2. PSO 318\n",
    "- one previous program: 1275, 2MASS and PS1 coords\n",
    "- no GAIA coords"
   ]
  },
  {
   "cell_type": "code",
   "execution_count": 61,
   "metadata": {},
   "outputs": [],
   "source": [
    "# 2mass (apt)\n",
    "coordpso318_2mass = SkyCoord(ra= 318.53344000*u.deg, \n",
    "                    dec= -22.85995500 *u.deg, \n",
    "                    obstime=Time(2000.0, format='jyear'),\n",
    "                    pm_ra_cosdec=136.3*u.mas/u.yr, pm_dec=-144.3*u.mas/u.yr)\n",
    "\n",
    "# panstarr\n",
    "coordpso318_ps1 = SkyCoord(ra=318.53380*u.deg, \n",
    "                    dec=-22.86032*u.deg, \n",
    "                    obstime=Time(2008.4594935, format='jyear'),\n",
    "                    pm_ra_cosdec=138.2  * u.mas/u.yr, pm_dec=-150.1*u.mas/u.yr)\n",
    "\n",
    "# program 1275 jwst\n",
    "coordpso318_1275 = SkyCoord(ra=Angle('21:14:8.2776', unit=u.hourangle),\n",
    "                    dec=Angle('-22:51:39.24', unit=u.deg),\n",
    "                    obstime=Time(2023.3, format='jyear'),\n",
    "                    pm_ra_cosdec=136.3 * u.mas/u.yr, pm_dec= -144.3*u.mas/u.yr)"
   ]
  },
  {
   "cell_type": "code",
   "execution_count": 62,
   "metadata": {},
   "outputs": [
    {
     "name": "stdout",
     "output_type": "stream",
     "text": [
      "PSO 318 Coordinate at 2025-09-22 00:00:00.000\n",
      "Separation between APT and PS1: 0.20709491138756544 arcsec\n",
      "Separation between APT and ID1275: 0.3098425398502976 arcsec\n"
     ]
    }
   ],
   "source": [
    "# set the nominal epoch to be close the observing day for this target\n",
    "obsTime = Time('2025-09-22')\n",
    "\n",
    "# apply obsTime to get new observing coordinates\n",
    "\n",
    "coordpso318_2mass_obs = coordpso318_2mass.apply_space_motion(new_obstime=obsTime)\n",
    "coordpso318_ps1_obs = coordpso318_ps1.apply_space_motion(new_obstime=obsTime)\n",
    "coordpso318_1275_obs = coordpso318_1275.apply_space_motion(new_obstime=obsTime)\n",
    "\n",
    "print('PSO 318 Coordinate at', obsTime)\n",
    "print('Separation between APT and PS1: {0}'.format(coordpso318_2mass_obs.separation(coordpso318_ps1_obs).to(u.arcsec)))\n",
    "print('Separation between APT and ID1275: {0}'.format(coordpso318_2mass_obs.separation(coordpso318_1275_obs).to(u.arcsec)))"
   ]
  },
  {
   "cell_type": "markdown",
   "metadata": {},
   "source": [
    "### 3. 2M1126 Coord Confirmation\n",
    "- three previous program: 3939, 4668, 5474\n",
    "- already using GAIA coord in APT"
   ]
  },
  {
   "cell_type": "code",
   "execution_count": 63,
   "metadata": {},
   "outputs": [],
   "source": [
    "# gaia (apt)\n",
    "coord1126_gaia = SkyCoord(ra=171.65484488705087*u.degree, \n",
    "                    dec=-50.06323211342603*u.degree,\n",
    "                    obstime=Time(2016.0, format='jyear'),\n",
    "                    pm_ra_cosdec=-1589.907 *u.mas/u.yr, pm_dec=450.777*u.mas/u.yr)\n",
    "\n",
    "# program 3930 jwst\n",
    "coord1126_3930 = SkyCoord(ra=Angle('11:26:36.3600', unit=u.hourangle),\n",
    "                     dec=Angle('-50:03:45.36', unit=u.deg),\n",
    "                    obstime=Time(2020.83, format='jyear'),\n",
    "                    pm_ra_cosdec=-1589.2 * u.mas/u.yr, pm_dec= 451.0 *u.mas/u.yr)"
   ]
  },
  {
   "cell_type": "code",
   "execution_count": 64,
   "metadata": {},
   "outputs": [
    {
     "name": "stdout",
     "output_type": "stream",
     "text": [
      "2M1126 Coordinate at 2026-04-28 00:00:00.000\n",
      "Separation between APT and ID3930 for: 0.10933997220771585 arcsec\n"
     ]
    }
   ],
   "source": [
    "# set the nominal epoch to be close the observing day for this target\n",
    "obsTime = Time('2026-04-28')\n",
    "\n",
    "# apply obsTime to get new observing coordinates \n",
    "coord1126_gaia_obs = coord1126_gaia.apply_space_motion(new_obstime=obsTime)\n",
    "coord1126_3930_obs = coord1126_3930.apply_space_motion(new_obstime=obsTime)\n",
    "\n",
    "print('2M1126 Coordinate at', obsTime)\n",
    "print('Separation between APT and ID3930 for: {0}'.format(coord1126_gaia_obs.separation(coord1126_3930_obs).to(u.arcsec)))"
   ]
  }
 ],
 "metadata": {
  "kernelspec": {
   "display_name": "base",
   "language": "python",
   "name": "python3"
  },
  "language_info": {
   "codemirror_mode": {
    "name": "ipython",
    "version": 3
   },
   "file_extension": ".py",
   "mimetype": "text/x-python",
   "name": "python",
   "nbconvert_exporter": "python",
   "pygments_lexer": "ipython3",
   "version": "3.9.7"
  }
 },
 "nbformat": 4,
 "nbformat_minor": 2
}
